{
 "cells": [
  {
   "cell_type": "code",
   "execution_count": 1,
   "id": "96d77da3-6f03-484e-a025-51a7e04db454",
   "metadata": {},
   "outputs": [],
   "source": [
    "import anndata as ad\n",
    "import h5py"
   ]
  },
  {
   "cell_type": "code",
   "execution_count": 2,
   "id": "456865b8-9df0-468c-a835-8690bf8836ef",
   "metadata": {},
   "outputs": [],
   "source": [
    "# 读取 .h5ad 文件\n",
    "adata = ad.read_h5ad(\"Parse_10M_PBMC_cytokines.h5ad\")"
   ]
  },
  {
   "cell_type": "code",
   "execution_count": 3,
   "id": "fe56aed3-8f79-4e12-a6f3-e975c45d8ffb",
   "metadata": {},
   "outputs": [],
   "source": [
    "# 保存为 h5seurat 格式\n",
    "adata.write(\"Parse_10M_PBMC_cytokines-python.h5seurat\")"
   ]
  },
  {
   "cell_type": "code",
   "execution_count": null,
   "id": "62772187-9762-4500-93b7-b5b89bc12622",
   "metadata": {},
   "outputs": [],
   "source": []
  }
 ],
 "metadata": {
  "kernelspec": {
   "display_name": "Python 3 (ipykernel)",
   "language": "python",
   "name": "python3"
  },
  "language_info": {
   "codemirror_mode": {
    "name": "ipython",
    "version": 3
   },
   "file_extension": ".py",
   "mimetype": "text/x-python",
   "name": "python",
   "nbconvert_exporter": "python",
   "pygments_lexer": "ipython3",
   "version": "3.9.20"
  }
 },
 "nbformat": 4,
 "nbformat_minor": 5
}
