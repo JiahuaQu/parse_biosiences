{
 "cells": [
  {
   "cell_type": "code",
   "execution_count": 1,
   "id": "6c62a7c6-540b-471e-8574-de4a5d9f3378",
   "metadata": {},
   "outputs": [],
   "source": [
    "import os\n",
    "import sys\n",
    "import pandas as pd\n",
    "import scanpy as sc\n",
    "import matplotlib as mpl\n",
    "import matplotlib.pyplot as plt\n",
    "import warnings\n",
    "import pickle"
   ]
  },
  {
   "cell_type": "code",
   "execution_count": 2,
   "id": "43850762-4d4a-449a-8373-fd7305ea91f8",
   "metadata": {},
   "outputs": [],
   "source": [
    "analysis_save_path = './'\n",
    "adata = sc.read_h5ad(os.path.join(analysis_save_path, '../05-DEG_in_python-not_subset_hvg/adata_post_harmony.h5ad'))"
   ]
  },
  {
   "cell_type": "code",
   "execution_count": 3,
   "id": "099f3a47-1229-4ec9-9414-ad8a0c9269f5",
   "metadata": {},
   "outputs": [],
   "source": [
    "# 用于存储每个 cell_type 的差异基因信息\n",
    "diff_gene_info = {}"
   ]
  },
  {
   "cell_type": "code",
   "execution_count": null,
   "id": "53232e4d-1f7d-4efb-84a2-1dd85d46bf52",
   "metadata": {},
   "outputs": [],
   "source": [
    "cell_type=\"ILC\""
   ]
  },
  {
   "cell_type": "code",
   "execution_count": 5,
   "id": "1a20d46e-42ad-417e-944f-796f712a0d0d",
   "metadata": {},
   "outputs": [],
   "source": [
    "# 子集化数据以包含当前 cell_type 的细胞\n",
    "adata_sub = adata[adata.obs['cell_type'] == cell_type]"
   ]
  },
  {
   "cell_type": "code",
   "execution_count": 6,
   "id": "4808c9c6-917d-4379-9b03-ffd8d63b0711",
   "metadata": {},
   "outputs": [],
   "source": [
    "# 确保 cytokine 列为分类类型\n",
    "if 'cytokine' not in adata_sub.obs:\n",
    "    print(f\"'cytokine' column not found for cell type {cell_type}. Skipping...\")"
   ]
  },
  {
   "cell_type": "code",
   "execution_count": 7,
   "id": "fe29f341-16a5-47c1-a13c-a42e9ea0625d",
   "metadata": {},
   "outputs": [],
   "source": [
    "# Check if 'cytokine' is already categorical\n",
    "if not isinstance(adata_sub.obs['cytokine'].dtype, pd.CategoricalDtype):\n",
    "    # Convert to categorical only if it's not already categorical\n",
    "    adata_sub.obs['cytokine'] = adata_sub.obs['cytokine'].astype(\"category\")"
   ]
  },
  {
   "cell_type": "code",
   "execution_count": 8,
   "id": "dc8cfb88-3d2d-4086-be1f-edad3a674e5b",
   "metadata": {},
   "outputs": [],
   "source": [
    "# 检查 'PBS' 是否在 cytokine 的类别中\n",
    "if 'PBS' not in adata_sub.obs['cytokine'].unique():\n",
    "    print(f\"'PBS' not found in 'cytokine' for cell type {cell_type}. Skipping...\")"
   ]
  },
  {
   "cell_type": "code",
   "execution_count": 9,
   "id": "58ca9ee7-5cc1-41e9-8308-4d0c84312d1f",
   "metadata": {},
   "outputs": [],
   "source": [
    "# 确保 adata_sub 是一个副本\n",
    "adata_sub = adata_sub.copy()\n",
    "\n",
    "# 将 'PBS' 设置为参考组\n",
    "if 'PBS' in adata_sub.obs['cytokine'].cat.categories:\n",
    "    adata_sub.obs['cytokine'] = adata_sub.obs['cytokine'].cat.set_categories(\n",
    "        ['PBS'] + [cat for cat in adata_sub.obs['cytokine'].cat.categories if cat != 'PBS'],\n",
    "        ordered=True\n",
    "    )\n",
    "    "
   ]
  },
  {
   "cell_type": "code",
   "execution_count": null,
   "id": "41b1006f-5dde-4897-a55a-ca43c507b50e",
   "metadata": {},
   "outputs": [
    {
     "name": "stderr",
     "output_type": "stream",
     "text": [
      "/home/jqu/.local/lib/python3.9/site-packages/numpy/core/fromnumeric.py:84: FutureWarning: The behavior of DataFrame.sum with axis=None is deprecated, in a future version this will reduce over both axes and return a scalar. To retain the old behavior, pass axis=0 (or do not pass axis)\n",
      "  return reduction(axis=axis, out=out, **passkwargs)\n"
     ]
    }
   ],
   "source": [
    "# 差异基因分析，PBS 作为参考\n",
    "sc.tl.rank_genes_groups(adata_sub, groupby='cytokine', reference='PBS', method='wilcoxon')"
   ]
  },
  {
   "cell_type": "code",
   "execution_count": null,
   "id": "bb915480-a50f-4535-844a-405a9a58a688",
   "metadata": {},
   "outputs": [],
   "source": [
    "# 提取差异基因信息并存储\n",
    "result = adata_sub.uns['rank_genes_groups']\n",
    "groups = result['names'].dtype.names  # 获取 cytokine 组名"
   ]
  },
  {
   "cell_type": "code",
   "execution_count": null,
   "id": "f59fc19f-2ff6-4c04-9df1-01fdc773dc1a",
   "metadata": {},
   "outputs": [],
   "source": [
    "# 将所有信息存储到 DataFrame 中，并转换为便于读取的格式\n",
    "gene_data = {}\n",
    "for group in groups:\n",
    "    gene_data[group] = pd.DataFrame({\n",
    "        'gene': result['names'][group],\n",
    "        'logfoldchanges': result['logfoldchanges'][group],\n",
    "        'pvals': result['pvals'][group],\n",
    "         'pvals_adj': result['pvals_adj'][group]\n",
    "    })"
   ]
  },
  {
   "cell_type": "code",
   "execution_count": null,
   "id": "6e8c99de-0594-4976-95e6-7181815e3f75",
   "metadata": {},
   "outputs": [],
   "source": [
    "# 保存到主字典中\n",
    "diff_gene_info[cell_type] = gene_data"
   ]
  },
  {
   "cell_type": "code",
   "execution_count": null,
   "id": "92295bda-1ae2-410a-9e9d-c8637a0b269e",
   "metadata": {},
   "outputs": [],
   "source": [
    "# 创建保存目录\n",
    "output_dir = \"./results\"  # 输出目录\n",
    "os.makedirs(output_dir, exist_ok=True)"
   ]
  },
  {
   "cell_type": "code",
   "execution_count": null,
   "id": "c9ba2f5c-2b79-44c4-af7b-04ac34b8f91c",
   "metadata": {},
   "outputs": [],
   "source": [
    "# Replace space with underline\n",
    "cell_type2 = cell_type.replace(\" \", \"_\")"
   ]
  },
  {
   "cell_type": "code",
   "execution_count": null,
   "id": "42067c12-79a6-4f8d-929d-95f366d39b34",
   "metadata": {},
   "outputs": [],
   "source": [
    "## Pickle format\n",
    "output_file = os.path.join(output_dir, f\"{cell_type2}_diff_gene_info.pkl\")\n",
    "# 保存文件\n",
    "with open(output_file, 'wb') as f:\n",
    "    pickle.dump(diff_gene_info, f)"
   ]
  },
  {
   "cell_type": "code",
   "execution_count": null,
   "id": "7762d3a1-002e-4c72-9697-77f5968c6df8",
   "metadata": {},
   "outputs": [],
   "source": [
    "# 遍历字典，保存每个 DataFrame 为 CSV 文件\n",
    "for cell_type, cytokine_dict in diff_gene_info.items():\n",
    "    for cytokine, df in cytokine_dict.items():\n",
    "        # 创建文件名，使用 {cell_type}_{cytokine}.csv 格式\n",
    "        file_name = f\"{cell_type2}_{cytokine}.csv\"\n",
    "        # 将 DataFrame 保存为 CSV 文件\n",
    "        df.to_csv(os.path.join(output_dir, file_name), index=True)"
   ]
  },
  {
   "cell_type": "code",
   "execution_count": null,
   "id": "23f8ddae-4fd8-453f-8fa4-fa6e66e7cb6c",
   "metadata": {},
   "outputs": [],
   "source": [
    "# 创建一个空的列表，用于存储提取的 'OLAH' 行\n",
    "combined_olaf_rows = []"
   ]
  },
  {
   "cell_type": "code",
   "execution_count": null,
   "id": "c392cc31-5641-4b6d-aeff-b3b2ce1de5ab",
   "metadata": {},
   "outputs": [],
   "source": [
    "# 遍历字典，保存每个 DataFrame 为 CSV 文件\n",
    "for cell_type, cytokine_dict in diff_gene_info.items():\n",
    "    for cytokine, df in cytokine_dict.items():\n",
    "        # 为 DataFrame 添加新列 'cell_cytokine'\n",
    "        df['cell_cytokine'] = f\"{cell_type2}_{cytokine}\"\n",
    "        \n",
    "        # 创建文件名，使用 {cell_type}_{cytokine}.csv 格式\n",
    "        file_name = f\"{cell_type2}_{cytokine}.csv\"\n",
    "        \n",
    "        # 将 DataFrame 保存为 CSV 文件\n",
    "        df.to_csv(os.path.join(output_dir, file_name), index=True)\n",
    "\n",
    "        # 提取 gene 列为 \"OLAH\" 的行\n",
    "        olah_rows = df[df['gene'] == 'OLAH']\n",
    "\n",
    "        # 将提取的行添加到 combined_olaf_rows 列表中\n",
    "        combined_olaf_rows.append(olah_rows)"
   ]
  },
  {
   "cell_type": "code",
   "execution_count": null,
   "id": "56b0f2bc-46f0-4789-8fa0-13076daa1314",
   "metadata": {},
   "outputs": [],
   "source": [
    "# 合并所有提取的行\n",
    "final_combined_df = pd.concat(combined_olaf_rows, ignore_index=True)"
   ]
  },
  {
   "cell_type": "code",
   "execution_count": null,
   "id": "244f5c5b-da82-40f4-8cb0-89d89952d2db",
   "metadata": {},
   "outputs": [],
   "source": [
    "# 保存合并后的结果为一个 CSV 文件\n",
    "# 使用 cell_type 动态命名文件名\n",
    "final_combined_df.to_csv(os.path.join(output_dir, f\"{cell_type}_combined_OLAH_rows.csv\"), index=False)"
   ]
  }
 ],
 "metadata": {
  "kernelspec": {
   "display_name": "Python 3 (ipykernel)",
   "language": "python",
   "name": "python3"
  },
  "language_info": {
   "codemirror_mode": {
    "name": "ipython",
    "version": 3
   },
   "file_extension": ".py",
   "mimetype": "text/x-python",
   "name": "python",
   "nbconvert_exporter": "python",
   "pygments_lexer": "ipython3",
   "version": "3.9.20"
  }
 },
 "nbformat": 4,
 "nbformat_minor": 5
}
