{
 "cells": [
  {
   "cell_type": "code",
   "execution_count": null,
   "id": "5fb9d576-780a-458a-a1ba-29486e3c2995",
   "metadata": {},
   "outputs": [],
   "source": [
    "import os\n",
    "import sys\n",
    "import scipy\n",
    "import numpy as np\n",
    "import pandas as pd\n",
    "import scanpy as sc\n",
    "import seaborn as sns\n",
    "import scipy.io as sio\n",
    "import scanpy.external as sce\n",
    "import matplotlib.pyplot as plt\n",
    "import time\n",
    "\n",
    "sc.settings.verbosity = 1\n",
    "\n",
    "# Adjust Scanpy figure defaults\n",
    "sc.settings.set_figure_params(dpi=00, fontsize=10, dpi_save=400,\n",
    "    facecolor = 'white', figsize=(6,6), format='png')"
   ]
  },
  {
   "cell_type": "markdown",
   "id": "270ae44f-2573-45a5-81a9-68a4911e837a",
   "metadata": {},
   "source": [
    "Function to get std across rows in a sparse_csr matrix. This will help with replacing standard Scanpy Scale and PCA functions in order to use less memory."
   ]
  },
  {
   "cell_type": "code",
   "execution_count": 2,
   "id": "10261600-c2fa-483a-931f-abff15714924",
   "metadata": {
    "jupyter": {
     "source_hidden": true
    }
   },
   "outputs": [],
   "source": [
    "def sparse_std(X,blocksize=100):\n",
    "    \"\"\"\n",
    "    Return the std deviation of the columns of a sparse matrix.\n",
    "    \n",
    "    inputs\n",
    "        X: sparse matrix\n",
    "\n",
    "        blocksize: number of columns to calculate in parallel. Larger\n",
    "        blocksize will increase memory usage as this function converts \n",
    "        each block to a dense matrix and uses the numpy .std() function\n",
    "    \n",
    "    outputs\n",
    "        X_std: numpy vector with std deviation of each column of X\n",
    "    \n",
    "    \"\"\"\n",
    "    n,m = X.shape\n",
    "    blocksize = 100\n",
    "    k = int(m/blocksize)\n",
    "    X_std = []\n",
    "    for i in range(k):\n",
    "        X_std += list(X[:,blocksize*i:blocksize*(i+1)].todense().std(0).A1)\n",
    "    X_std += list(X[:,k*blocksize:].todense().std(0).A1)\n",
    "    X_std = np.array(X_std)\n",
    "    return X_std"
   ]
  },
  {
   "cell_type": "markdown",
   "id": "a8286754-3564-4809-b132-d02b64a35ad4",
   "metadata": {},
   "source": [
    "IRLB functions to replace normal scanpy scale and pca steps in order to reduce memory usage"
   ]
  },
  {
   "cell_type": "code",
   "execution_count": 3,
   "id": "02204e8b-6af0-423f-a46c-837977ff9716",
   "metadata": {
    "jupyter": {
     "source_hidden": true
    }
   },
   "outputs": [],
   "source": [
    "#   irlbpy code\n",
    "#       From:   https://github.com/airysen/irlbpy\n",
    "#       Date:   2021-12\n",
    "#       License: Apache License, V 2.0, January 2004\n",
    "#\n",
    "#       Code unmodified except:\n",
    "#           Added two print (feedback) blocks\n",
    "#           Ran through lint formatting tool 'black' https://github.com/psf/black\n",
    "#\n",
    "import numpy as np\n",
    "import scipy.sparse as sparse\n",
    "import warnings\n",
    "\n",
    "from numpy.fft import rfft, irfft\n",
    "import numpy.linalg as nla\n",
    "\n",
    "\n",
    "# Matrix-vector product wrapper\n",
    "# A is a numpy 2d array or matrix, or a scipy matrix or sparse matrix.\n",
    "# x is a numpy vector only.\n",
    "# Compute A.dot(x) if t is False,  A.transpose().dot(x)  otherwise.\n",
    "\n",
    "\n",
    "def multA(A, x, TP=False, L=None):\n",
    "    if sparse.issparse(A):\n",
    "        # m = A.shape[0]\n",
    "        # n = A.shape[1]\n",
    "        if TP:\n",
    "            return sparse.csr_matrix(x).dot(A).transpose().todense().A[:, 0]\n",
    "        return A.dot(sparse.csr_matrix(x).transpose()).todense().A[:, 0]\n",
    "    if TP:\n",
    "        return x.dot(A)\n",
    "    return A.dot(x)\n",
    "\n",
    "\n",
    "def multS(s, v, L, TP=False):\n",
    "    N = s.shape[0]\n",
    "    vp = prepare_v(v, N, L, TP=TP)\n",
    "    p = irfft(rfft(vp) * rfft(s))\n",
    "    if not TP:\n",
    "        return p[:L]\n",
    "    return p[L - 1 :]\n",
    "\n",
    "\n",
    "def prepare_s(s, L=None):\n",
    "    N = s.shape[0]\n",
    "    if L is None:\n",
    "        L = N // 2\n",
    "    K = N - L + 1\n",
    "    return np.roll(s, K - 1)\n",
    "\n",
    "\n",
    "def prepare_v(v, N, L, TP=False):\n",
    "    v = v.flatten()[::-1]\n",
    "    K = N - L + 1\n",
    "    if TP:\n",
    "        lencheck = L\n",
    "        if v.shape[0] != lencheck:\n",
    "            raise VectorLengthException(\n",
    "                \"Length of v must be  L (if transpose flag is True)\"\n",
    "            )\n",
    "        pw = K - 1\n",
    "        v = np.pad(v, (pw, 0), mode=\"constant\", constant_values=0)\n",
    "    elif not TP:\n",
    "        lencheck = N - L + 1\n",
    "        if v.shape[0] != lencheck:\n",
    "            raise VectorLengthException(\"Length of v must be N-K+1\")\n",
    "        pw = L - 1\n",
    "        v = np.pad(v, (0, pw), mode=\"constant\", constant_values=0)\n",
    "    return v\n",
    "\n",
    "\n",
    "def orthog(Y, X):\n",
    "    \"\"\"Orthogonalize a vector or matrix Y against the columns of the matrix X.\n",
    "    This function requires that the column dimension of Y is less than X and\n",
    "    that Y and X have the same number of rows.\n",
    "    \"\"\"\n",
    "    dotY = multA(X, Y, TP=True)\n",
    "    return Y - multA(X, dotY)\n",
    "\n",
    "\n",
    "# Simple utility function used to check linear dependencies during computation:\n",
    "\n",
    "\n",
    "def invcheck(x):\n",
    "    # eps2 = 2 * np.finfo(np.float).eps\n",
    "    eps2 = 2 * np.finfo(float).eps\n",
    "    if x > eps2:\n",
    "        x = 1 / x\n",
    "    else:\n",
    "        x = 0\n",
    "        warnings.warn(\"Ill-conditioning encountered, result accuracy may be poor\")\n",
    "    return x\n",
    "\n",
    "\n",
    "def lanczos(A, nval, tol=0.0001, maxit=50, center=None, scale=None, L=None):\n",
    "    \"\"\"Estimate a few of the largest singular values and corresponding singular\n",
    "    vectors of matrix using the implicitly restarted Lanczos bidiagonalization\n",
    "    method of Baglama and Reichel, see:\n",
    "\n",
    "    Augmented Implicitly Restarted Lanczos Bidiagonalization Methods,\n",
    "    J. Baglama and L. Reichel, SIAM J. Sci. Comput. 2005\n",
    "\n",
    "    Keyword arguments:\n",
    "    tol   -- An estimation tolerance. Smaller means more accurate estimates.\n",
    "    maxit -- Maximum number of Lanczos iterations allowed.\n",
    "\n",
    "    Given an input matrix A of dimension j * k, and an input desired number\n",
    "    of singular values n, the function returns a tuple X with five entries:\n",
    "\n",
    "    X[0] A j * nu matrix of estimated left singular vectors.\n",
    "    X[1] A vector of length nu of estimated singular values.\n",
    "    X[2] A k * nu matrix of estimated right singular vectors.\n",
    "    X[3] The number of Lanczos iterations run.\n",
    "    X[4] The number of matrix-vector products run.\n",
    "\n",
    "    The algorithm estimates the truncated singular value decomposition:\n",
    "    A.dot(X[2]) = X[0]*X[1].\n",
    "    \"\"\"\n",
    "\n",
    "    import sys\n",
    "\n",
    "    print(\n",
    "        f\">> lanczos A={A.shape}, nval={nval}, tol={tol}, maxit={maxit}\",\n",
    "        file=sys.stdout,\n",
    "    )\n",
    "    center_story = \"None\" if center is None else f\"{center.shape}\"\n",
    "    scale_story = \"None\" if scale is None else f\"{scale.shape}\"\n",
    "    print(f\"++ lanczos center={center_story}, scale={scale_story}\", file=sys.stdout)\n",
    "    sys.stdout.flush()\n",
    "\n",
    "    mmult = None\n",
    "    m = None\n",
    "    n = None\n",
    "    if A.ndim == 2:\n",
    "        mmult = multA\n",
    "        m = A.shape[0]\n",
    "        n = A.shape[1]\n",
    "        if min(m, n) < 2:\n",
    "            raise MatrixShapeException(\"The input matrix must be at least 2x2.\")\n",
    "\n",
    "    elif A.ndim == 1:\n",
    "        mmult = multS\n",
    "        A = np.pad(A, (0, A.shape[0] % 2), mode=\"edge\")\n",
    "        N = A.shape[0]\n",
    "        if L is None:\n",
    "            L = N // 2\n",
    "        K = N - L + 1\n",
    "        m = L\n",
    "        n = K\n",
    "        A = prepare_s(A, L)\n",
    "    elif A.ndim > 2:\n",
    "        raise MatrixShapeException(\"The input matrix must be 2D array\")\n",
    "    nu = nval\n",
    "\n",
    "    m_b = min((nu + 20, 3 * nu, n))  # Working dimension size\n",
    "    mprod = 0\n",
    "    it = 0\n",
    "    j = 0\n",
    "    k = nu\n",
    "    smax = 1\n",
    "    # sparse = sparse.issparse(A)\n",
    "\n",
    "    V = np.zeros((n, m_b))\n",
    "    W = np.zeros((m, m_b))\n",
    "    F = np.zeros((n, 1))\n",
    "    B = np.zeros((m_b, m_b))\n",
    "\n",
    "    V[:, 0] = np.random.randn(n)  # Initial vector\n",
    "    V[:, 0] = V[:, 0] / np.linalg.norm(V)\n",
    "\n",
    "    while it < maxit:\n",
    "        if it > 0:\n",
    "            j = k\n",
    "\n",
    "        VJ = V[:, j]\n",
    "\n",
    "        # apply scaling\n",
    "        if scale is not None:\n",
    "            VJ = VJ / scale\n",
    "\n",
    "        W[:, j] = mmult(A, VJ, L=L)\n",
    "        mprod = mprod + 1\n",
    "\n",
    "        # apply centering\n",
    "        # R code: W[, j_w] <- W[, j_w] - ds * drop(cross(dv, VJ)) * du\n",
    "        if center is not None:\n",
    "            W[:, j] = W[:, j] - np.dot(center, VJ)\n",
    "\n",
    "        if it > 0:\n",
    "            # NB W[:,0:j] selects columns 0,1,...,j-1\n",
    "            W[:, j] = orthog(W[:, j], W[:, 0:j])\n",
    "        s = np.linalg.norm(W[:, j])\n",
    "        sinv = invcheck(s)\n",
    "        W[:, j] = sinv * W[:, j]\n",
    "\n",
    "        # Lanczos process\n",
    "        while j < m_b:\n",
    "            F = mmult(A, W[:, j], TP=True, L=L)\n",
    "            mprod = mprod + 1\n",
    "\n",
    "            # apply scaling\n",
    "            if scale is not None:\n",
    "                F = F / scale\n",
    "\n",
    "            F = F - s * V[:, j]\n",
    "            F = orthog(F, V[:, 0 : j + 1])\n",
    "            fn = np.linalg.norm(F)\n",
    "            fninv = invcheck(fn)\n",
    "            F = fninv * F\n",
    "            if j < m_b - 1:\n",
    "                V[:, j + 1] = F\n",
    "                B[j, j] = s\n",
    "                B[j, j + 1] = fn\n",
    "                VJp1 = V[:, j + 1]\n",
    "\n",
    "                # apply scaling\n",
    "                if scale is not None:\n",
    "                    VJp1 = VJp1 / scale\n",
    "\n",
    "                W[:, j + 1] = mmult(A, VJp1, L=L)\n",
    "                mprod = mprod + 1\n",
    "\n",
    "                # apply centering\n",
    "                # R code: W[, jp1_w] <- W[, jp1_w] - ds * drop(cross(dv, VJP1))\n",
    "                # * du\n",
    "                if center is not None:\n",
    "                    W[:, j + 1] = W[:, j + 1] - np.dot(center, VJp1)\n",
    "\n",
    "                # One step of classical Gram-Schmidt...\n",
    "                W[:, j + 1] = W[:, j + 1] - fn * W[:, j]\n",
    "                # ...with full reorthogonalization\n",
    "                W[:, j + 1] = orthog(W[:, j + 1], W[:, 0 : (j + 1)])\n",
    "                s = np.linalg.norm(W[:, j + 1])\n",
    "                sinv = invcheck(s)\n",
    "                W[:, j + 1] = sinv * W[:, j + 1]\n",
    "            else:\n",
    "                B[j, j] = s\n",
    "            j = j + 1\n",
    "        # End of Lanczos process\n",
    "        S = nla.svd(B)\n",
    "        R = fn * S[0][m_b - 1, :]  # Residuals\n",
    "        if it == 0:\n",
    "            smax = S[1][0]  # Largest Ritz value\n",
    "        else:\n",
    "            smax = max((S[1][0], smax))\n",
    "\n",
    "        conv = sum(np.abs(R[0:nu]) < tol * smax)\n",
    "        if conv < nu:  # Not coverged yet\n",
    "            k = max(conv + nu, k)\n",
    "            k = min(k, m_b - 3)\n",
    "        else:\n",
    "            break\n",
    "        # Update the Ritz vectors\n",
    "        V[:, 0:k] = V[:, 0:m_b].dot(S[2].transpose()[:, 0:k])\n",
    "        V[:, k] = F\n",
    "        B = np.zeros((m_b, m_b))\n",
    "        # Improve this! There must be better way to assign diagonal...\n",
    "        for l in range(k):\n",
    "            B[l, l] = S[1][l]\n",
    "        B[0:k, k] = R[0:k]\n",
    "        # Update the left approximate singular vectors\n",
    "        W[:, 0:k] = W[:, 0:m_b].dot(S[0][:, 0:k])\n",
    "        it = it + 1\n",
    "\n",
    "    U = W[:, 0:m_b].dot(S[0][:, 0:nu])\n",
    "    V = V[:, 0:m_b].dot(S[2].transpose()[:, 0:nu])\n",
    "    # return((U, S[1][0:nu], V, it, mprod))\n",
    "\n",
    "    print(f\"<< lanczos it={it} mprod={mprod}\", file=sys.stdout)\n",
    "    sys.stdout.flush()\n",
    "\n",
    "    return LanczosResult(\n",
    "        **{\"U\": U, \"s\": S[1][0:nu], \"V\": V, \"steps\": it, \"nmult\": mprod}\n",
    "    )\n",
    "\n",
    "\n",
    "class LanczosResult:\n",
    "    def __init__(self, **kwargs):\n",
    "        for key in kwargs:\n",
    "            setattr(self, key, kwargs[key])\n",
    "\n",
    "\n",
    "class VectorLengthException(Exception):\n",
    "    pass\n",
    "\n",
    "\n",
    "class MatrixShapeException(Exception):\n",
    "    pass"
   ]
  },
  {
   "cell_type": "markdown",
   "id": "5fbe5f66-27a2-4679-9202-62d5b5cf5441",
   "metadata": {},
   "source": [
    "Read in anndata object containing about 10 million PBMCs that have been treated with various cytokines and processed through the Parse Biosciences Evercode workflow in a single experiment."
   ]
  },
  {
   "cell_type": "code",
   "execution_count": 4,
   "id": "9599390a-79a1-4b57-9385-4a2bb437db5e",
   "metadata": {},
   "outputs": [
    {
     "data": {
      "text/plain": [
       "'/research_jude/rgs01_jude/shres/IMINFO/common/jqu/parse_biosciences/analysis/01-process'"
      ]
     },
     "execution_count": 4,
     "metadata": {},
     "output_type": "execute_result"
    }
   ],
   "source": [
    "os.getcwd()"
   ]
  },
  {
   "cell_type": "code",
   "execution_count": 7,
   "id": "939f164a-a7ad-4c78-b4e5-0bf3b3ccb2ab",
   "metadata": {},
   "outputs": [],
   "source": [
    "dataset_path = '/research_jude/rgs01_jude/shres/IMINFO/common/jqu/parse_biosciences/datasets/'\n",
    "analysis_save_path = '/research_jude/rgs01_jude/shres/IMINFO/common/jqu/parse_biosciences/analysis/01-process/'"
   ]
  },
  {
   "cell_type": "code",
   "execution_count": 8,
   "id": "d1fb78fe-170a-4595-acff-4105bc12ddc0",
   "metadata": {},
   "outputs": [
    {
     "name": "stdout",
     "output_type": "stream",
     "text": [
      "CPU times: user 16.3 s, sys: 38.6 s, total: 54.9 s\n",
      "Wall time: 2min 37s\n"
     ]
    }
   ],
   "source": [
    "%%time\n",
    "adata = sc.read_h5ad(dataset_path + \"Parse_10M_PBMC_cytokines.h5ad\")"
   ]
  },
  {
   "cell_type": "markdown",
   "id": "48f70039-1b09-45f1-91eb-34fb89bc8ce1",
   "metadata": {},
   "source": [
    "Do not downsample to simplify the dataset."
   ]
  },
  {
   "cell_type": "code",
   "execution_count": 9,
   "id": "f8daacf0-0e06-4fa4-8b4d-3bcd137e2bec",
   "metadata": {},
   "outputs": [
    {
     "data": {
      "text/plain": [
       "AnnData object with n_obs × n_vars = 9697974 × 40352\n",
       "    obs: 'sample', 'species', 'gene_count', 'tscp_count', 'mread_count', 'bc1_wind', 'bc2_wind', 'bc3_wind', 'bc1_well', 'bc2_well', 'bc3_well', 'log1p_n_genes_by_counts', 'log1p_total_counts', 'total_counts_MT', 'pct_counts_MT', 'log1p_total_counts_MT', 'donor', 'cytokine', 'treatment', 'cell_type'\n",
       "    var: 'n_cells'"
      ]
     },
     "execution_count": 9,
     "metadata": {},
     "output_type": "execute_result"
    }
   ],
   "source": [
    "adata"
   ]
  },
  {
   "cell_type": "code",
   "execution_count": 10,
   "id": "5fdbfd07-6cd6-4364-ad91-6529e259aeed",
   "metadata": {},
   "outputs": [
    {
     "name": "stdout",
     "output_type": "stream",
     "text": [
      "CPU times: user 4min 23s, sys: 11.1 s, total: 4min 34s\n",
      "Wall time: 5min 10s\n"
     ]
    }
   ],
   "source": [
    "%%time\n",
    "sc.pp.normalize_total(adata, target_sum=1e4)\n",
    "sc.pp.log1p(adata)"
   ]
  },
  {
   "cell_type": "code",
   "execution_count": 11,
   "id": "b18b50c0-8ba9-4558-97b0-a7527aa7bdc5",
   "metadata": {},
   "outputs": [
    {
     "data": {
      "text/plain": [
       "AnnData object with n_obs × n_vars = 9697974 × 40352\n",
       "    obs: 'sample', 'species', 'gene_count', 'tscp_count', 'mread_count', 'bc1_wind', 'bc2_wind', 'bc3_wind', 'bc1_well', 'bc2_well', 'bc3_well', 'log1p_n_genes_by_counts', 'log1p_total_counts', 'total_counts_MT', 'pct_counts_MT', 'log1p_total_counts_MT', 'donor', 'cytokine', 'treatment', 'cell_type'\n",
       "    var: 'n_cells'\n",
       "    uns: 'log1p'"
      ]
     },
     "execution_count": 11,
     "metadata": {},
     "output_type": "execute_result"
    }
   ],
   "source": [
    "adata"
   ]
  },
  {
   "cell_type": "code",
   "execution_count": null,
   "id": "226bae55-c366-4e88-8c37-aa087d33bd64",
   "metadata": {},
   "outputs": [],
   "source": [
    "%%time\n",
    "sc.pp.highly_variable_genes(adata, min_mean=0.0125, max_mean=3, min_disp=0.25)\n",
    "sc.pl.highly_variable_genes(adata) \n",
    "\n",
    "# Save raw expression values before variable gene subset\n",
    "adata.raw = adata"
   ]
  },
  {
   "cell_type": "code",
   "execution_count": null,
   "id": "1e45cbdd-6919-4bf5-b457-761edd02c21c",
   "metadata": {},
   "outputs": [],
   "source": [
    "%%time\n",
    "adata = adata[:, adata.var.highly_variable].copy()"
   ]
  },
  {
   "cell_type": "code",
   "execution_count": null,
   "id": "772f3e40-4dbb-4fa9-a309-087c3364d9b5",
   "metadata": {},
   "outputs": [],
   "source": [
    "adata"
   ]
  },
  {
   "cell_type": "markdown",
   "id": "4b4ed9e9-4d02-4848-91f8-2d4670b96f30",
   "metadata": {},
   "source": [
    "Replace scanpy.pp.scale and scanpy.pp.pca with the following code to use less memory"
   ]
  },
  {
   "cell_type": "code",
   "execution_count": null,
   "id": "eb794559-438d-4ebc-9a32-da39fb00b7f9",
   "metadata": {},
   "outputs": [],
   "source": [
    "%%time\n",
    "use_hv = True\n",
    "adata.uns['pca'] = {}\n",
    "adata.uns['pca']['params'] = {\n",
    "    'zero_center': True,\n",
    "    'use_highly_variable': use_hv,\n",
    "}\n",
    "\n",
    "adata.var['mean'] = adata.X.mean(0).A1\n",
    "adata.var['std'] = sparse_std(adata.X)\n",
    "\n",
    "S = lanczos(adata.X,50,center=adata.var['mean'],scale=adata.var['std'])\n",
    "\n",
    "adata.obsm['X_pca'] = (S.U * S.s)\n",
    "adata.varm['PCs'] = S.V\n",
    "adata.uns['pca']['variance'] = adata.obsm['X_pca'].var(0)\n",
    "adata.uns['pca']['variance_ratio'] = adata.uns['pca']['variance'] / (adata.X.shape[1] - 1 )"
   ]
  },
  {
   "cell_type": "code",
   "execution_count": null,
   "id": "92485256-b099-49cc-9a4e-9346287371b5",
   "metadata": {},
   "outputs": [],
   "source": [
    "adata.write(analysis_save_path + 'adata_post_pca.h5ad')"
   ]
  },
  {
   "cell_type": "code",
   "execution_count": null,
   "id": "d3c7ade8-7e2a-443a-93bc-49c63ea10dbb",
   "metadata": {},
   "outputs": [],
   "source": [
    "adata"
   ]
  },
  {
   "cell_type": "markdown",
   "id": "26d75d94-3b48-4208-9e4c-8bb3500ae0cb",
   "metadata": {},
   "source": [
    "Remove the batch effects of having different PBMC donors via running harmony integration."
   ]
  },
  {
   "cell_type": "code",
   "execution_count": null,
   "id": "704c6efb-ac9f-440d-900d-0ce4f54213f8",
   "metadata": {},
   "outputs": [],
   "source": [
    "%%time\n",
    "sce.pp.harmony_integrate(adata, 'donor')"
   ]
  },
  {
   "cell_type": "code",
   "execution_count": null,
   "id": "804e6c51-d7f6-43f2-90e8-f864767260a3",
   "metadata": {},
   "outputs": [],
   "source": [
    "adata"
   ]
  },
  {
   "cell_type": "code",
   "execution_count": null,
   "id": "35f156c6-0f8a-4492-9017-3ab5c0e158b3",
   "metadata": {},
   "outputs": [],
   "source": [
    "%%time\n",
    "adata.write(analysis_save_path + 'adata_post_harmony.h5ad')"
   ]
  },
  {
   "cell_type": "markdown",
   "id": "c4b92b68-c479-4812-b6be-04cf822b66d5",
   "metadata": {},
   "source": [
    "Continue with neighbors. To use the results of harmony integration, we set use_rep = \"X_pca_harmony\""
   ]
  },
  {
   "cell_type": "code",
   "execution_count": null,
   "id": "67246346-957b-4279-87ea-10fdd252f02e",
   "metadata": {},
   "outputs": [],
   "source": [
    "%%time\n",
    "sc.pp.neighbors(adata, n_neighbors=15, n_pcs=30, use_rep=\"X_pca_harmony\")"
   ]
  },
  {
   "cell_type": "code",
   "execution_count": null,
   "id": "7bc3caa6-e7d5-4043-8e06-a8ec86f66f14",
   "metadata": {},
   "outputs": [],
   "source": [
    "adata"
   ]
  },
  {
   "cell_type": "markdown",
   "id": "389cbeb2-f06e-4231-9dcb-c33833e8da95",
   "metadata": {},
   "source": [
    "Continue with umap and leiden clustering."
   ]
  },
  {
   "cell_type": "code",
   "execution_count": null,
   "id": "fff7a632-761f-4d28-968d-ffbaa01d841d",
   "metadata": {},
   "outputs": [],
   "source": [
    "%%time\n",
    "sc.tl.umap(adata)"
   ]
  },
  {
   "cell_type": "code",
   "execution_count": null,
   "id": "d87d2da5-6d18-46d4-9d22-8c3390546895",
   "metadata": {},
   "outputs": [],
   "source": [
    "adata"
   ]
  },
  {
   "cell_type": "code",
   "execution_count": null,
   "id": "22631d4d-6532-4765-8350-7b7778461ac8",
   "metadata": {},
   "outputs": [],
   "source": [
    "%%time\n",
    "adata.write(analysis_save_path + 'adata_post_harmony_post_umap.h5ad')"
   ]
  },
  {
   "cell_type": "code",
   "execution_count": null,
   "id": "5056ae11-72da-42ea-8b16-ae7b825d453e",
   "metadata": {},
   "outputs": [],
   "source": [
    "%%time\n",
    "sc.tl.leiden(adata, resolution=1.0, flavor=\"igraph\", n_iterations=2)"
   ]
  },
  {
   "cell_type": "code",
   "execution_count": null,
   "id": "8aa578ba",
   "metadata": {},
   "outputs": [],
   "source": [
    "adata.write(analysis_save_path + 'adata_post_harmony_post_umap_post_leiden.h5ad')"
   ]
  },
  {
   "cell_type": "markdown",
   "id": "f36b83ef-25d8-4692-96b6-2ce8dacbecaf",
   "metadata": {},
   "source": [
    "Visualize in UMAP"
   ]
  },
  {
   "cell_type": "code",
   "execution_count": null,
   "id": "75f08d41-6dfb-4538-9b9b-085a2f5a38ab",
   "metadata": {},
   "outputs": [],
   "source": [
    "%%time\n",
    "sc.pl.umap(adata, color='donor', legend_fontsize=8)"
   ]
  },
  {
   "cell_type": "code",
   "execution_count": null,
   "id": "fca44ecf-6c31-4620-a7c1-cf56b63597b6",
   "metadata": {},
   "outputs": [],
   "source": [
    "%%time\n",
    "sc.pl.umap(adata, color='leiden', legend_fontsize=8)"
   ]
  },
  {
   "cell_type": "code",
   "execution_count": null,
   "id": "d26ee5f1-2836-4a32-8174-63bef598be41",
   "metadata": {},
   "outputs": [],
   "source": [
    "%%time\n",
    "sc.pl.umap(adata, color='leiden', legend_fontsize=8, legend_loc = \"on data\")"
   ]
  },
  {
   "cell_type": "code",
   "execution_count": null,
   "id": "655721f1-12f1-4164-9e17-150ce6458730",
   "metadata": {},
   "outputs": [],
   "source": [
    "%%time\n",
    "sc.pl.umap(adata, color='cell_type', legend_fontsize=8)"
   ]
  },
  {
   "cell_type": "code",
   "execution_count": null,
   "id": "87c84b63-c085-4c32-b329-9bdda53ee10f",
   "metadata": {},
   "outputs": [],
   "source": [
    "%%time\n",
    "sc.pl.umap(adata, color='cell_type', legend_fontsize=8, legend_loc = \"on data\")"
   ]
  },
  {
   "cell_type": "code",
   "execution_count": null,
   "id": "b3ea67e1-e024-4915-902e-92ca0d708107",
   "metadata": {},
   "outputs": [],
   "source": [
    "%%time\n",
    "sc.pl.umap(adata, color='cytokine', legend_fontsize=8)"
   ]
  },
  {
   "cell_type": "code",
   "execution_count": null,
   "id": "b3da765f",
   "metadata": {},
   "outputs": [],
   "source": [
    "%%time\n",
    "sc.pl.umap(adata, color='cytokine', legend_fontsize=8, legend_loc = \"on data\")"
   ]
  }
 ],
 "metadata": {
  "kernelspec": {
   "display_name": "Python 3 (ipykernel)",
   "language": "python",
   "name": "python3"
  },
  "language_info": {
   "codemirror_mode": {
    "name": "ipython",
    "version": 3
   },
   "file_extension": ".py",
   "mimetype": "text/x-python",
   "name": "python",
   "nbconvert_exporter": "python",
   "pygments_lexer": "ipython3",
   "version": "3.9.20"
  }
 },
 "nbformat": 4,
 "nbformat_minor": 5
}
